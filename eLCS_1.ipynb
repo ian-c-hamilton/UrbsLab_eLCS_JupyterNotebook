{
 "cells": [
  {
   "cell_type": "markdown",
   "metadata": {},
   "source": [
    "# LCS Demo 1\n",
    "\n",
    "**LCS Workshop- Educational LCS - eLCS**\n",
    "\n",
    "Outcome: *Learn the concept and use of Learning Classifier Systems *(*LCSs*)\n",
    "\n",
    "Instructors: [Dr Ryan Urbanowicz](http://www.ryanurbanowicz.com/), [Dr Will Browne](http://ecs.victoria.ac.nz/Main/WillBrowne) And [Dr Karthik Kuber](http://kkuber.mysite.syr.edu/),\n",
    "\n",
    "The following topics will be covered in a series of hands-on exercises and demonstrations:\n",
    "1. LCS in a Nutshell \n",
    "2. LCS Concepts \n",
    "3. LCS Functional Cycle \n",
    "4. LCS Adaptability \n",
    "5. LCS Applications (toy and real problems) \n",
    "\n",
    "<p style=\"color:red;\">Welcome to the Educational Learning Classifier System (eLCS).</p> \n",
    "It has the core elements of the functionality that help define the concept of LCSs. It’s the same family as the fully featured ExSTraCS system, so it is easy to transfer to a state-of-the-art LCS from this shallow learning curve.\n",
    "\n",
    "eLCS complements the forthcoming *Textbook on Learning Classifier Systems*. Each demo is paired with one of the chapters in the textbook. Therefore, there are 5 different versions of an educational learning classiﬁer system (eLCS), as relevant functionality (code) is added to eLCS at each stage. This builds up the eLCS algorithm in its entirety from Demo 1 through to 5. Demo 6 showcases how ExSTraCS may be applied to a real-world data mining example, i.e. large scale bioinformatics. "
   ]
  },
  {
   "cell_type": "markdown",
   "metadata": {},
   "source": [
    "- **Demo 1 Understanding of what an LCS is attempting – how does it classify the training data?**\n",
    "- Demo 2 Matching and Covering\n",
    "- Demo 3 Prediction, Rule Population Evaluations, GA Rule Discovery and Parental Selection\n",
    "- Demo 4 Deletion and Niche GA + Subsumption\n",
    "- Demo 5 Complete eLCS applied to a complex (toy) problem\n",
    "- Bonus Demo 6 ExSTraCS applied to a real-world data mining example \n",
    "\n",
    "All code is in Python. This newest version is coded in Python 3.4. Here it is to be run in the Jupyter platform (http://jupyter.org/), as it supports interactive data science.\n",
    "\n",
    "Each demo version only includes the minimum code needed to perform the functions they were designed for. This way users can start by examining the simplest version of the code and progress onwards. The demo exercises are to implement several functions in eLCS and view results in spreadsheet, text ﬁle or Python based graphics (preferable).\n",
    "\n",
    "## Set-up and introduction to Jupyter\n",
    "\n",
    "Please see http://jupyter.org/ on how to set-up Jupyter with Python 3.\n",
    "Please download eLCS_1.ipynb, … , eLCS_5.ipynb from Github \n",
    "\n",
    "### 1. Jupyter can be extended to hide individual code in cells\n",
    "*All* of the necessary code is below, separated into 'cells' for descriptive purposes. It is verbose and can make it difficult to see important method-code compared with infrastructure-code, so it is nice to be able to hide code on occasion. Jupyter needs the hide_code extension available from: https://github.com/kirbs-/hide_code\n",
    "It can be downloaded and extracted into the Pythod directory.\n",
    "\"pip install hide_code\" from the command prompt then installs the extension. Note a reboot of the server is needed! \n",
    "Then under the drop down menu of 'Cell Toolbar' is possible to toggel 'Hide Code', for your viewing pleasure."
   ]
  },
  {
   "cell_type": "markdown",
   "metadata": {},
   "source": [
    " - Name:        eLCS_Run.py\n",
    " - Authors:     Ryan Urbanowicz - Written at Dartmouth College, Hanover, NH, USA\n",
    " - Contact:     ryan.j.urbanowicz@darmouth.edu\n",
    " - Created:     November 1, 2013\n",
    " - Description: To run e-LCS, run this module.  A properly formatted configuration file, including all run parameters must be included with the path to that file given below.  In this example, the configuration file has been included locally, so only the file name is required.\n",
    "             \n",
    "--------------------------------------------------------------------------------------------------------------------------------\n",
    "eLCS: Educational Learning Classifier System - A basic LCS coded for educational purposes.  This LCS algorithm uses supervised learning, and thus is most \n",
    "similar to \"UCS\", an LCS algorithm published by Ester Bernado-Mansilla and Josep Garrell-Guiu (2003) which in turn is based heavily on \"XCS\", an LCS \n",
    "algorithm published by Stewart Wilson (1995).  \n",
    "\n",
    "Copyright (C) 2013 Ryan Urbanowicz \n",
    "This program is free software; you can redistribute it and/or modify it under the terms of the GNU General Public License as published by the \n",
    "Free Software Foundation; either version 3 of the License, or (at your option) any later version.\n",
    "\n",
    "This program is distributed in the hope that it will be useful but WITHOUT ANY WARRANTY; without even the implied warranty of MERCHANTABLILITY \n",
    "or FITNESS FOR A PARTICULAR PURPOSE.  See the GNU General Public License for more details.\n",
    "\n",
    "You should have received a copy of the GNU General Public License along with this program; if not, write to the Free Software Foundation, \n",
    "Inc., 51 Franklin Street, Fifth Floor, Boston, MA 02110-1301 USA\n"
   ]
  },
  {
   "cell_type": "markdown",
   "metadata": {},
   "source": [
    "The purpose of an LCS is to classify, which it does through a population rules. We have included, as a rule population example, a real run of the complete (Demo 5) eLCS after 10000 iterations (eLCS has learned the problem already with perfect accuracy) (see ExampleRun eLCS 10000 RulePop.txt)."
   ]
  },
  {
   "cell_type": "markdown",
   "metadata": {},
   "source": [
    "We have removed some of the rule parameters columns to keep this example as simple as possible. Users can see below to examine rules, or can are encouraged to open the rule population in Excel, try sorting rules by numerosity, accuracy, or initial time stamp and examine basic rule properties. Instead of manually selecting a small set of rules to include as an example rule population for this ﬁrst Demo, it is good to be initially exposed to what a complete rule population might look like. "
   ]
  },
  {
   "cell_type": "markdown",
   "metadata": {},
   "source": [
    "Conditions in the rules included (A 0, A 1, R 0, R 1,R 2, and R 3), making up the multiplexer problem address (A) and register (R) bits. Class is labelled as Phenotype, since eLCS handles both discrete and continuous endpoints, which are better generalized as a phenotype. Also included in the ﬁle are the following rule parameters: ﬁtness, accuracy, numerosity, TimeStamp, Initial TimeStamp, and Speciﬁcity (just the fraction of speciﬁed attributes in a given rule). The rule population is initial ordered by initial Time Stamp, i.e., the iteration in which the rule was originally introduced to the population. "
   ]
  },
  {
   "cell_type": "markdown",
   "metadata": {},
   "source": [
    "Load in existing file rule population"
   ]
  },
  {
   "cell_type": "code",
   "execution_count": null,
   "metadata": {
    "collapsed": false,
    "hideCode": true
   },
   "outputs": [],
   "source": [
    "import numpy as np\n",
    "import matplotlib.pyplot as plt\n",
    "\n",
    "headerList = np.array([])\n",
    "dataList = []\n",
    "arraylist = np.array([])\n",
    "# Open the file for reading.\n",
    "with open('ExampleRun_eLCS_10000_RulePop.txt', 'r') as infile:\n",
    "    headerList = infile.readline().rstrip('\\n').split('\\t')   #strip off first row\n",
    "    for line in infile:\n",
    "        lineList = line.strip('\\n').split('\\t')\n",
    "        # arraylist = [float(i) for i in lineList]\n",
    "        dataList.append(lineList)\n",
    "    infile.close()  \n",
    "\n",
    "\n",
    "#my_list = data.strip('\\n').split('\\t')\n",
    "#print(headerList)\n",
    "#print(dataList)\n",
    "#print(np.shape(dataList))"
   ]
  },
  {
   "cell_type": "markdown",
   "metadata": {},
   "source": [
    "Display final population:"
   ]
  },
  {
   "cell_type": "code",
   "execution_count": null,
   "metadata": {
    "collapsed": false,
    "hideCode": true
   },
   "outputs": [],
   "source": [
    "import pandas\n",
    "import numpy\n",
    "from IPython.display import display\n",
    "\n",
    "indexR = ['Rule'+str(i) for i in range(1, len(dataList)+1)]\n",
    "\n",
    "df = pandas.DataFrame(dataList, index=indexR,columns=headerList)\n",
    "display(df)"
   ]
  },
  {
   "cell_type": "markdown",
   "metadata": {},
   "source": [
    "Visualise classifiers"
   ]
  },
  {
   "cell_type": "code",
   "execution_count": null,
   "metadata": {
    "collapsed": false,
    "hideCode": true
   },
   "outputs": [],
   "source": [
    "import numpy as np\n",
    "import matplotlib.pyplot as p\n",
    "from matplotlib import gridspec\n",
    "\n",
    "for j in range(1, 5): #len(dataList)+1):\n",
    "    dL = dataList[j] #0 is indice of first row of data, 1 is second so can loop!\n",
    "    print(dL)\n",
    "    for i in range(0,len(dL)-1):\n",
    "        if (dL[i] =='0'): dL[i] = 0\n",
    "        if (dL[i] =='1'): dL[i] = 1\n",
    "        if (dL[i] =='#'): dL[i] = 2\n",
    "        \n",
    "    print(dL)\n",
    "    c = np.array([[dL[0],dL[1],dL[2],dL[3],dL[4],dL[5]]])\n",
    "    a = np.array([[dL[6]]])\n",
    "\n",
    "    gs = gridspec.GridSpec(1, 2, width_ratios=[6, 1]) \n",
    "    print(c)\n",
    "    print(a)\n",
    "    p.subplot(gs[0])\n",
    "    p.imshow(c, interpolation=\"nearest\")\n",
    "    p.axis('off')\n",
    "\n",
    "    p.subplot(gs[1])\n",
    "    p.imshow(a)\n",
    "    p.axis('off')\n",
    "\n",
    "    p.tight_layout()\n",
    "    p.show()"
   ]
  }
 ],
 "metadata": {
  "celltoolbar": "Hide code",
  "kernelspec": {
   "display_name": "Python 3",
   "language": "python",
   "name": "python3"
  },
  "language_info": {
   "codemirror_mode": {
    "name": "ipython",
    "version": 3
   },
   "file_extension": ".py",
   "mimetype": "text/x-python",
   "name": "python",
   "nbconvert_exporter": "python",
   "pygments_lexer": "ipython3",
   "version": "3.5.2"
  }
 },
 "nbformat": 4,
 "nbformat_minor": 0
}
