{
 "cells": [
  {
   "cell_type": "markdown",
   "metadata": {},
   "source": [
    "# LCS Demo 0\n",
    "\n",
    "**LCS Workshop- Educational LCS - eLCS**\n",
    "\n",
    "Outcome: *Learn the concept and use of Learning Classifier Systems *(*LCSs*)\n",
    "\n",
    "Instructors: [Dr Ryan Urbanowicz](http://www.ryanurbanowicz.com/), [Dr Will Browne](http://ecs.victoria.ac.nz/Main/WillBrowne) And [Dr Karthik Kuber](http://kkuber.mysite.syr.edu/),\n",
    "\n",
    "The following topics will be covered in a series of hands-on exercises and demonstrations:\n",
    "1. LCS in a Nutshell \n",
    "2. LCS Concepts \n",
    "3. LCS Functional Cycle \n",
    "4. LCS Adaptability \n",
    "5. LCS Applications (toy and real problems) \n",
    "\n",
    "<p style=\"color:red;\">Welcome to the Educational Learning Classifier System (eLCS).</p> \n",
    "It has the core elements of the functionality that help define the concept of LCSs. It’s the same family as the fully featured ExSTraCS system, so it is easy to transfer to a state-of-the-art LCS from this shallow learning curve.\n",
    "\n",
    "eLCS complements the forthcoming *Textbook on Learning Classifier Systems*. Each demo is paired with one of the chapters in the textbook. Therefore, there are 5 different versions of an educational learning classiﬁer system (eLCS), as relevant functionality (code) is added to eLCS at each stage. This builds up the eLCS algorithm in its entirety from Demo 1 through to 5. Demo 6 showcases how ExSTraCS may be applied to a real-world data mining example, i.e. large scale bioinformatics. "
   ]
  },
  {
   "cell_type": "markdown",
   "metadata": {},
   "source": [
    "- Demo 1 Understanding of what an LCS is attempting – how does it classify the training data?\n",
    "- Demo 2 Matching and Covering\n",
    "- Demo 3 Prediction, Rule Population Evaluations, GA Rule Discovery, Parental Selection and Deletion \n",
    "- Demo 4 Niche GA + Subsumption\n",
    "- Demo 5 Complete eLCS applied to a complex (toy) problem\n",
    "- Bonus Demo 6 ExSTraCS applied to a real-world data mining example \n",
    "\n",
    "Like the ExSTraCS algorithm, eLCS is set up to handle discrete or continuous attributes and endpoints. Example domains are simple initially. The conﬁguration ﬁles may be edited, to change run parameters, but initially they should be set to run on their own. \n",
    "\n",
    "All code is in Python. This newest version is coded in Python 3.4. Here it is to be run in the Jupyter platform (http://jupyter.org/), as it supports interactive data science. <p style=\"color:lightgrey;\">[Note eLCS was originally coded in Eclipse using PyDev 2.7, which is still valid and available on request from Ryan, although Python 2+ code will not function in Python 3+. Alternatively, each version may be run by calling eLCS Run.py.].</p> \n",
    "\n",
    "Each demo version only includes the minimum code needed to perform the functions they were designed for. This way users can start by examining the simplest version of the code and progress onwards. The demo exercises are to implement several functions in eLCS and view results in spreadsheet, text ﬁle or Python based graphics (preferable).\n",
    "\n",
    "## Set-up and introduction to Jupyter\n",
    "\n",
    "Please see http://jupyter.org/ on how to set-up Jupyter with Python 3.\n",
    "Please download eLCS_1.ipynb, … , eLCS_5.ipynb from Github \n",
    "\n",
    "### 0. Check Jupyter and Python 3 is installed correctly! \n",
    "Firstly, check that the basic eLCS, eLCS_0.ipynb, is running in Jupyter -the “Hello LCS” input code produces an appropriate output when it is run. Run a code cell using `Shift-Enter` or pressing the <button class='btn btn-default btn-xs'><i class=\"icon-play fa fa-play\"></i></button> button in the toolbar above when input highlighted)."
   ]
  },
  {
   "cell_type": "code",
   "execution_count": 1,
   "metadata": {
    "collapsed": true
   },
   "outputs": [],
   "source": [
    "a = \"Hello, LCS!\""
   ]
  },
  {
   "cell_type": "code",
   "execution_count": 2,
   "metadata": {
    "collapsed": true
   },
   "outputs": [
    {
     "name": "stdout",
     "output_type": "stream",
     "text": [
      "Hello, LCS!\n"
     ]
    }
   ],
   "source": [
    "print(a)"
   ]
  },
  {
   "cell_type": "markdown",
   "metadata": {},
   "source": [
    "\n",
    "Hello, LCS! should appear above this line if everything is working :)\n"
   ]
  }
 ],
 "metadata": {
  "kernelspec": {
   "display_name": "Python 3",
   "language": "python",
   "name": "python3"
  },
  "language_info": {
   "codemirror_mode": {
    "name": "ipython",
    "version": 3
   },
   "file_extension": ".py",
   "mimetype": "text/x-python",
   "name": "python",
   "nbconvert_exporter": "python",
   "pygments_lexer": "ipython3",
   "version": "3.8.5"
  }
 },
 "nbformat": 4,
 "nbformat_minor": 0
}
